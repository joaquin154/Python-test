{
 "cells": [
  {
   "cell_type": "markdown",
   "metadata": {
    "id": "isnt8AJ_AVkK"
   },
   "source": [
    "<div style=\"width: 100%; clear: both;\">\n",
    "    <div style=\"float: left; width: 50%;\">\n",
    "       <img src=\"http://www.uoc.edu/portal/_resources/common/imatges/marca_UOC/UOC_Masterbrand.jpg\", align=\"left\">\n",
    "    </div>\n",
    "</div>\n",
    "\n",
    "<div style=\"float: right; width: 50%;\">\n",
    "    <p style=\"margin: 0; padding-top: 22px; text-align:right;\">M1.771 · Privacidad</p>\n",
    "    <p style=\"margin: 0; text-align:right;\">Máster Universitario en Ciberseguridad y Privacidad</p>\n",
    "    <p style=\"margin: 0; text-align:right; padding-button: 100px;\">Estudios de Informática, Multimedia y Telecomunicación</p>\n",
    "</div>\n",
    "\n",
    "</div>\n",
    "<div style=\"width: 100%; clear: both;\">\n",
    "<div style=\"width:100%;\">&nbsp;</div>"
   ]
  },
  {
   "cell_type": "markdown",
   "metadata": {
    "id": "I5dXgRwkAVkS"
   },
   "source": [
    "Privadesa\n",
    "============================\n",
    "\n",
    "--- \n",
    "\n",
    "PEC2 - Actividad 1 con datos de Lightbeam\n",
    "-----------------------------------------------------\n",
    "\n",
    "Este *notebook* es una herramienta para responder a las preguntas planteadas en\n",
    "la activitad 1 de la PEC2.\n",
    "\n",
    "### Introducción\n",
    "El conjunto de datos con el que vamos a trabajar (`lightbeamData.json`)\n",
    "consta de las páginas registradas con Lightbeam, la extensión del navegador\n",
    "que utiliza visualizaciones interactivas para mostrarnos las relaciones entre \n",
    "terceros y las páginas que visitamos. "
   ]
  },
  {
   "cell_type": "code",
   "execution_count": 2,
   "metadata": {
    "id": "LqKPCymOAVkT"
   },
   "outputs": [
    {
     "name": "stdout",
     "output_type": "stream",
     "text": [
      "www.marca.com    [e00-marca.uecdn.es, e00-elmundo.uecdn.es, e00...\n",
      "Name: thirdParties, dtype: object\n",
      "Total number of elements in the nested list:  1\n"
     ]
    }
   ],
   "source": [
    "import pandas as pd\n",
    "import json\n",
    "\n",
    "# Generamos un dataframe con los datos que hemos descargado del Lightbeam.\n",
    "df = pd.read_json('lightbeamData.json')\n",
    "df = df.transpose()\n",
    "\n",
    "# # Restringimos los registros a las páginas que hemos visitado.\n",
    "pagina = df[df.firstParty == True]\n",
    "# count = pagina.count(thirdParties)\n",
    "# print (pagina.thirdParties)\n",
    "pagina2 = pagina[pagina.hostname == \"www.marca.com\"]\n",
    "# numero = len(pagina2[thirdParties])\n",
    "\n",
    "# print (pagina)\n",
    "print (pagina2.thirdParties)\n",
    "\n",
    "\n",
    "def get_elements_of_nested_list(element):\n",
    "    count = 0\n",
    "    if isinstance(element, list):\n",
    "        for each_element in element:\n",
    "            count += get_elements_of_nested_list(each_element)\n",
    "    else:\n",
    "        count += 1\n",
    "    return count\n",
    "\n",
    "print(\"Total number of elements in the nested list: \", get_elements_of_nested_list(pagina2.thirdParties))\n"
   ]
  },
  {
   "cell_type": "code",
   "execution_count": 2,
   "metadata": {
    "id": "tfQd0d0-AVkT",
    "outputId": "e6ea64e8-e8cc-41b5-fd46-f4ba89d6c6b5",
    "scrolled": true
   },
   "outputs": [
    {
     "name": "stdout",
     "output_type": "stream",
     "text": [
      "['hostname' 'favicon' 'firstPartyHostnames' 'firstParty' 'thirdParties']\n",
      "calendar.google.com                  calendar.google.com\n",
      "e-motionpeugeot.xataka.com    e-motionpeugeot.xataka.com\n",
      "es.wallapop.com                          es.wallapop.com\n",
      "one.esa.int                                  one.esa.int\n",
      "planetafantasy.xataka.com      planetafantasy.xataka.com\n",
      "web.whatsapp.com                        web.whatsapp.com\n",
      "www.ebay.es                                  www.ebay.es\n",
      "www.facebook.com                        www.facebook.com\n",
      "www.google.com                            www.google.com\n",
      "www.idealista.com                      www.idealista.com\n",
      "www.larazon.es                            www.larazon.es\n",
      "www.marca.com                              www.marca.com\n",
      "www.xataka.com                            www.xataka.com\n",
      "www.youtube.com                          www.youtube.com\n",
      "Name: hostname, dtype: object\n"
     ]
    }
   ],
   "source": [
    "# Imprimimos las columnas del dataframe que hemos cargado.\n",
    "print(pagina.columns.values)\n",
    "\n",
    "# Imprimimos la lista de páginas que hemos visitado.\n",
    "print(pagina.hostname)"
   ]
  },
  {
   "cell_type": "code",
   "execution_count": 3,
   "metadata": {
    "id": "-9piy2eiAVkU"
   },
   "outputs": [],
   "source": [
    "# Generamos las parejas de páginas, la lista de terceros en común, y cuántos son.\n",
    "PaginesTercers = [[pagina.hostname[u], \n",
    "                   pagina.hostname[v], \n",
    "                   list(set(pagina.thirdParties[u]) & set(pagina.thirdParties[v])), \n",
    "                   len(list(set(pagina.thirdParties[u]) & set(pagina.thirdParties[v])))]\n",
    "                  for u in pagina.index \n",
    "                  for v in pagina.index\n",
    "                  if u != v]\n",
    "\n",
    "# Convertimos los datos que hemos calculado en un dataframe.\n",
    "PaginesTercers = pd.DataFrame(PaginesTercers, \n",
    "                              columns = ['Pagina1', \n",
    "                                         'Pagina2', \n",
    "                                         'TercersEnComu', \n",
    "                                         'Interseccio'])  "
   ]
  },
  {
   "cell_type": "code",
   "execution_count": 4,
   "metadata": {
    "id": "ckjxAmohAVkV",
    "outputId": "23eee780-e896-4de9-e093-f90753c98cbf"
   },
   "outputs": [
    {
     "data": {
      "text/plain": [
       "Pagina1                                 e-motionpeugeot.xataka.com\n",
       "Pagina2                                  planetafantasy.xataka.com\n",
       "TercersEnComu    [sdk.privacy-center.org, fonts.gstatic.com, ww...\n",
       "Interseccio                                                     12\n",
       "Name: 16, dtype: object"
      ]
     },
     "execution_count": 4,
     "metadata": {},
     "output_type": "execute_result"
    }
   ],
   "source": [
    "# Calculamos cuáles son las páginas que tienen más terceros en común.\n",
    "PaginesTercers.iloc[PaginesTercers.Interseccio.idxmax()]\n"
   ]
  },
  {
   "cell_type": "code",
   "execution_count": null,
   "metadata": {},
   "outputs": [],
   "source": []
  }
 ],
 "metadata": {
  "colab": {
   "name": "IB-ActividadLightbeam.ipynb",
   "provenance": []
  },
  "kernelspec": {
   "display_name": "Python 3",
   "language": "python",
   "name": "python3"
  },
  "language_info": {
   "codemirror_mode": {
    "name": "ipython",
    "version": 3
   },
   "file_extension": ".py",
   "mimetype": "text/x-python",
   "name": "python",
   "nbconvert_exporter": "python",
   "pygments_lexer": "ipython3",
   "version": "3.8.5"
  }
 },
 "nbformat": 4,
 "nbformat_minor": 1
}
